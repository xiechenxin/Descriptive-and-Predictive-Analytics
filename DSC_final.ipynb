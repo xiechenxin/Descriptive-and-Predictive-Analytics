{
 "cells": [
  {
   "cell_type": "markdown",
   "metadata": {},
   "source": [
    "# DSC Donation Details"
   ]
  },
  {
   "cell_type": "markdown",
   "metadata": {},
   "source": [
    "### Import Libraries"
   ]
  },
  {
   "cell_type": "code",
   "execution_count": 755,
   "metadata": {},
   "outputs": [],
   "source": [
    "import sys\n",
    "import pandas\n",
    "import numpy\n",
    "from pandas               import DataFrame\n",
    "from pandas               import read_csv\n",
    "from numpy                import where\n",
    "from numpy                import array\n",
    "from numpy                import random\n",
    "from sklearn.linear_model import LogisticRegression \n",
    "from sklearn.metrics      import auc\n",
    "from sklearn.metrics      import roc_auc_score\n",
    "from matplotlib           import pyplot\n",
    "from scipy.stats          import pearsonr"
   ]
  },
  {
   "cell_type": "markdown",
   "metadata": {},
   "source": [
    "### Local path"
   ]
  },
  {
   "cell_type": "code",
   "execution_count": 756,
   "metadata": {},
   "outputs": [],
   "source": [
    "sys.path.append(\"C:/Users/sbadhani/Desktop/Predictive Analysis\")"
   ]
  },
  {
   "cell_type": "code",
   "execution_count": 757,
   "metadata": {},
   "outputs": [],
   "source": [
    "from ieseg import partition\n",
    "from ieseg import roc"
   ]
  },
  {
   "cell_type": "markdown",
   "metadata": {},
   "source": [
    "### Path"
   ]
  },
  {
   "cell_type": "code",
   "execution_count": 758,
   "metadata": {},
   "outputs": [],
   "source": [
    "directory = \"C:/Users/sbadhani/Desktop/Predictive Analysis/Project_Data\"\n",
    "inputData = directory + \"/Data\"\n",
    "sandbox   = directory + \"/Sandbox\""
   ]
  },
  {
   "cell_type": "markdown",
   "metadata": {},
   "source": [
    "### Import Data"
   ]
  },
  {
   "cell_type": "code",
   "execution_count": 759,
   "metadata": {},
   "outputs": [],
   "source": [
    "# Train dataset\n",
    "campaign2013 = read_csv(inputData + \"/campaign20130411.csv\", sep = ';')"
   ]
  },
  {
   "cell_type": "code",
   "execution_count": 760,
   "metadata": {},
   "outputs": [],
   "source": [
    "#Grouping the data by DonorID to find the total amount donated\n",
    "campaign2013 = campaign2013.groupby(['donorID'],as_index=False).agg('sum')"
   ]
  },
  {
   "cell_type": "code",
   "execution_count": 761,
   "metadata": {},
   "outputs": [],
   "source": [
    "#Rename Amount Column\n",
    "#Column 1: amount_campaign\n",
    "campaign2013 = campaign2013.rename(columns= {'amount': 'amount_campaign'})"
   ]
  },
  {
   "cell_type": "code",
   "execution_count": 762,
   "metadata": {},
   "outputs": [],
   "source": [
    "# Donor dataset\n",
    "donors = read_csv(inputData + \"/donors.csv\", sep = ';', na_values = 'Missing') #Assigning missing values"
   ]
  },
  {
   "cell_type": "code",
   "execution_count": 763,
   "metadata": {},
   "outputs": [],
   "source": [
    "#columns Added for Gender\n",
    "#Coumn 2,3,4,5,6\n",
    "donors['is_donor_M'] = where(donors[\"gender\"] =='M', 1,0)\n",
    "donors['is_donor_F'] = where(donors[\"gender\"] =='F', 1,0)\n",
    "donors['is_donor_C'] = where(donors[\"gender\"] =='C', 1,0)\n",
    "donors['is_donor_S'] = where(donors[\"gender\"] =='S', 1,0)\n",
    "donors['is_donor_U'] = where(donors[\"gender\"] =='U', 1,0)"
   ]
  },
  {
   "cell_type": "code",
   "execution_count": 764,
   "metadata": {},
   "outputs": [],
   "source": [
    "#column Added for Language\n",
    "#Coumn 7\n",
    "donors['is_donor_French'] = where(donors[\"language\"] =='F', 1,0)\n"
   ]
  },
  {
   "cell_type": "code",
   "execution_count": 765,
   "metadata": {},
   "outputs": [],
   "source": [
    "#Handle Null Colums in Zipcode\n",
    "donors['zipcode'] = where(donors[\"zipcode\"].isnull(), 0,donors[\"zipcode\"])"
   ]
  },
  {
   "cell_type": "code",
   "execution_count": 766,
   "metadata": {},
   "outputs": [],
   "source": [
    "#Handle one string value in Zipcode(No such zipcode in Brussel)\n",
    "donors['zipcode'] = where(donors[\"zipcode\"] =='SW6 3PS',\"10000\",donors['zipcode'])"
   ]
  },
  {
   "cell_type": "code",
   "execution_count": 767,
   "metadata": {},
   "outputs": [],
   "source": [
    "#Change Zipcode type to Numeric\n",
    "donors['zipcode']= pandas.to_numeric(donors['zipcode'])"
   ]
  },
  {
   "cell_type": "code",
   "execution_count": 768,
   "metadata": {},
   "outputs": [],
   "source": [
    "donors['province'] = \"London\""
   ]
  },
  {
   "cell_type": "code",
   "execution_count": 769,
   "metadata": {},
   "outputs": [],
   "source": [
    "#Assign real values to province using Zipcode\n",
    "donors['province'] = where((donors['zipcode'] >= 1000) & (donors['zipcode']<=1299), \"Brussels capital Region\",donors['province'])\n",
    "donors['province'] = where((donors['zipcode'] >= 1300) & (donors['zipcode']<=1499), \"Walloon Brabant\",donors['province'])\n",
    "donors['province'] = where((donors['zipcode'] >= 1500) & (donors['zipcode']<=1999), \"Flemish Brabant\",donors['province'])\n",
    "donors['province'] = where((donors['zipcode'] >= 2000) & (donors['zipcode']<=2999), \"Antwerp\",donors['province'])\n",
    "donors['province'] = where((donors['zipcode'] >= 3000) & (donors['zipcode']<=3499), \"Flemish Brabant2\",donors['province'])\n",
    "donors['province'] = where((donors['zipcode'] >= 3500) & (donors['zipcode']<=3999), \"Limburg\",donors['province'])\n",
    "donors['province'] = where((donors['zipcode'] >= 4000) & (donors['zipcode']<=4999), \"Liège\",donors['province'])\n",
    "donors['province'] = where((donors['zipcode'] >= 5000) & (donors['zipcode']<=5999), \"Namur\",donors['province'])\n",
    "donors['province'] = where((donors['zipcode'] >= 6000) & (donors['zipcode']<=6599), \"Hainaut\",donors['province'])\n",
    "donors['province'] = where((donors['zipcode'] >= 6600) & (donors['zipcode']<=6999), \"Luxembourg\",donors['province'])\n",
    "donors['province'] = where((donors['zipcode'] >= 7000) & (donors['zipcode']<=7999), \"Hainaut2\",donors['province'])\n",
    "donors['province'] = where((donors['zipcode'] >= 8000) & (donors['zipcode']<=8999), \"West Flanders\",donors['province'])\n",
    "donors['province'] = where((donors['zipcode'] >= 9000) & (donors['zipcode']<=9999), \"East Flanders\",donors['province'])"
   ]
  },
  {
   "cell_type": "code",
   "execution_count": 770,
   "metadata": {},
   "outputs": [],
   "source": [
    "#Column Conversion for Province\n",
    "donors['Is_Brussel'] = where(donors['province'] == \"Brussels capital Region\", 1,0)\n",
    "donors['Is_Walloon'] = where(donors['province'] == \"Walloon Brabant\", 1,0)\n",
    "donors['Is_FlemishBrabant'] = where(donors['province'] == \"Flemish Brabant\", 1,0)\n",
    "donors['Is_Antwerp'] = where(donors['province'] == \"Antwerp\", 1,0)\n",
    "donors['Is_FlemishBrabant2'] = where(donors['province'] == \"Flemish Brabant2\", 1,0)\n",
    "donors['Is_Limburg'] = where(donors['province'] == \"Limburg\", 1,0)\n",
    "donors['Is_Liège'] = where(donors['province'] == \"Liège\", 1,0)\n",
    "donors['Is_Namur'] = where(donors['province'] == \"Namur\", 1,0)\n",
    "donors['Is_Hainaut'] = where(donors['province'] == \"Hainaut\", 1,0)\n",
    "donors['Is_Luxembourg'] = where(donors['province'] == \"Luxembourg\", 1,0)\n",
    "donors['Is_Hainaut2'] = where(donors['province'] == \"Hainaut2\", 1,0)\n",
    "donors['Is_WestFlanders'] = where(donors['province'] == \"West Flanders\", 1,0)\n",
    "donors['Is_EastFlanders'] = where(donors['province'] == \"East Flanders\", 1,0)\n"
   ]
  },
  {
   "cell_type": "code",
   "execution_count": 771,
   "metadata": {},
   "outputs": [],
   "source": [
    "#Assign real values to region based on province\n",
    "donors['region'] = where(donors['province'] == \"Brussels capital Region\", \"Brussels\",donors['region'])\n",
    "donors['region'] = where(donors['province'] == \"Walloon Brabant\", \"Wallonia\",donors['region'])\n",
    "donors['region'] = where(donors['province'] == \"Liège\", \"Wallonia\",donors['region'])\n",
    "donors['region'] = where(donors['province'] == \"Namur\", \"Wallonia\",donors['region'])\n",
    "donors['region'] = where(donors['province'] == \"Luxembourg\", \"Wallonia\",donors['region'])\n",
    "donors['region'] = where(donors['province'] == \"Hainaut\", \"Wallonia\",donors['region'])\n",
    "donors['region'] = where(donors['province'] == \"Hainaut2\", \"Wallonia\",donors['region'])\n",
    "donors['region'] = where(donors['province'] == \"Flemish Brabant\", \"Flanders\",donors['region'])\n",
    "donors['region'] = where(donors['province'] == \"Antwerp\", \"Flanders\",donors['region'])\n",
    "donors['region'] = where(donors['province'] == \"Flemish Brabant2\", \"Flanders\",donors['region'])\n",
    "donors['region'] = where(donors['province'] == \"Limburg\", \"Flanders\",donors['region'])\n",
    "donors['region'] = where(donors['province'] == \"West Flanders\", \"Flanders\",donors['region'])\n",
    "donors['region'] = where(donors['province'] == \"East Flanders\", \"Flanders\",donors['region'])"
   ]
  },
  {
   "cell_type": "code",
   "execution_count": 772,
   "metadata": {},
   "outputs": [],
   "source": [
    "#Column Conversion for Region\n",
    "donors['Is_Brussel_region'] = where(donors['region'] == \"Brussels\", 1,0)\n",
    "donors['Is_Wallonia_region'] = where(donors['region'] == \"Wallonia\", 1,0)\n",
    "donors['Is_Flanders_region'] = where(donors['region'] == \"Flanders\", 1,0)"
   ]
  },
  {
   "cell_type": "code",
   "execution_count": 773,
   "metadata": {},
   "outputs": [],
   "source": [
    "# gifts dataset\n",
    "gifts = read_csv(inputData + \"/gifts.csv\", sep = ';')"
   ]
  },
  {
   "cell_type": "code",
   "execution_count": 774,
   "metadata": {},
   "outputs": [],
   "source": [
    "#renaming the amount column in Gifts\n",
    "gifts = gifts.rename(columns= {'amount': 'amount_gifts'})"
   ]
  },
  {
   "cell_type": "code",
   "execution_count": 775,
   "metadata": {},
   "outputs": [],
   "source": [
    "#Convert to date format\n",
    "gifts['date'] = pandas.to_datetime(gifts['date'])"
   ]
  },
  {
   "cell_type": "code",
   "execution_count": 776,
   "metadata": {},
   "outputs": [],
   "source": [
    "#filtering data before the campaign date\n",
    "gifts = gifts[gifts.date <= '2013-04-11']"
   ]
  },
  {
   "cell_type": "code",
   "execution_count": 777,
   "metadata": {},
   "outputs": [],
   "source": [
    "camp_count =gifts.groupby(['donorID'], as_index=False)['campID'].count()\n",
    "camp_count=camp_count.rename(columns= {'campID': 'Total_camps_attended'})"
   ]
  },
  {
   "cell_type": "code",
   "execution_count": 778,
   "metadata": {},
   "outputs": [],
   "source": [
    "#column 8\n",
    "camp_count['is_camp_attended'] = where(camp_count[\"Total_camps_attended\"] > 0, 1,0)#not required"
   ]
  },
  {
   "cell_type": "code",
   "execution_count": 779,
   "metadata": {},
   "outputs": [],
   "source": [
    "#column 9\n",
    "#Total Donation per donor\n",
    "donation_donor =gifts.groupby(['donorID'], as_index=False)['amount_gifts'].sum()\n",
    "donation_donor=donation_donor.rename(columns= {'amount_gifts': 'Total_Amount_Donated'})"
   ]
  },
  {
   "cell_type": "code",
   "execution_count": 780,
   "metadata": {},
   "outputs": [],
   "source": [
    "#create a new column for year to obtain the donations per year\n",
    "gifts['gifts_year'] = gifts['date'].dt.year"
   ]
  },
  {
   "cell_type": "code",
   "execution_count": 781,
   "metadata": {},
   "outputs": [],
   "source": [
    "#filtering data for the 3 year frequency rate\n",
    "freq_3 = gifts[(gifts['date'] >= '2010-04-11') & (gifts['date'] <= '2013-04-11')]\n",
    "#column 11\n",
    "#Camp count freq per 3 years\n",
    "freq_3_camp = freq_3.groupby(['donorID'], as_index=False)['campID'].count()\n",
    "freq_3_camp['is_freq_3_camp_attended'] = where(freq_3_camp[\"campID\"] >0, 1,0)\n",
    "#column 12\n",
    "#Donation freq per 3 years\n",
    "Donation_last_3_years = freq_3.groupby(['donorID'],as_index=False)['amount_gifts'].sum()\n",
    "Donation_last_3_years=Donation_last_3_years.rename(columns= {'amount_gifts': 'Donation_last_3_years'})\n"
   ]
  },
  {
   "cell_type": "code",
   "execution_count": 782,
   "metadata": {},
   "outputs": [],
   "source": [
    "#filtering data for the 5 year frequency rate\n",
    "freq_5 = gifts[(gifts['date'] >= '2008-04-11') & (gifts['date'] <= '2013-04-11')]\n",
    "#column 13\n",
    "##Camp count freq per 5 years\n",
    "freq_5_camp = freq_5.groupby(['donorID'],as_index=False)['campID'].count()\n",
    "freq_5_camp['is_freq_5_camp_attended'] = where(freq_5_camp[\"campID\"] >0, 1,0)\n",
    "#column 14\n",
    "#Donation freq per 5 years\n",
    "Donation_last_5_years = freq_5.groupby(['donorID'],as_index=False)['amount_gifts'].sum()\n",
    "Donation_last_5_years=Donation_last_5_years.rename(columns= {'amount_gifts': 'Donation_last_5_years'})"
   ]
  },
  {
   "cell_type": "code",
   "execution_count": 783,
   "metadata": {},
   "outputs": [],
   "source": [
    "#Drop Unwanted Columns\n",
    "freq_5_camp=freq_5_camp.drop(['campID'], axis=1)\n",
    "freq_3_camp=freq_3_camp.drop(['campID'], axis=1)"
   ]
  },
  {
   "cell_type": "code",
   "execution_count": 784,
   "metadata": {},
   "outputs": [],
   "source": [
    "#column 15\n",
    "#max donation by a donor yearwise\n",
    "max_donation_year = gifts.groupby(['donorID','gifts_year'],as_index=False).sum()\n",
    "max_donation_year = max_donation_year.groupby(['donorID'],as_index=False)['amount_gifts'].max()\n",
    "max_donation_year=max_donation_year.rename(columns= {'amount_gifts': 'max_donation_year'})"
   ]
  },
  {
   "cell_type": "code",
   "execution_count": 785,
   "metadata": {},
   "outputs": [],
   "source": [
    "#column 16\n",
    "#min donation by a donor\n",
    "min_donation_year = gifts.groupby(['donorID','gifts_year'],as_index=False).sum()\n",
    "min_donation_year = min_donation_year.groupby(['donorID'],as_index=False)['amount_gifts'].min()\n",
    "min_donation_year=min_donation_year.rename(columns= {'amount_gifts': 'min_donation_year'})"
   ]
  },
  {
   "cell_type": "code",
   "execution_count": 786,
   "metadata": {},
   "outputs": [],
   "source": [
    "#column 18\n",
    "#Max Amount Paid by a donor\n",
    "Max_Amount_Donated=gifts.groupby(['donorID'],as_index=False)['amount_gifts'].max()\n",
    "Max_Amount_Donated=Max_Amount_Donated.rename(columns= {'amount_gifts': 'Max_Amount_Donated'})\n",
    "#column 19\n",
    "#Min Amount Paid by a donor\n",
    "Min_Amount_Donated=gifts.groupby(['donorID'],as_index=False)['amount_gifts'].max()\n",
    "Min_Amount_Donated=Min_Amount_Donated.rename(columns= {'amount_gifts': 'Min_Amount_Donated'})\n"
   ]
  },
  {
   "cell_type": "code",
   "execution_count": 787,
   "metadata": {},
   "outputs": [],
   "source": [
    "#column 21\n",
    "#Fist Amount Donated\n",
    "First_Amount_Donated=gifts.groupby(['donorID'],as_index=False)[['date']].min()\n",
    "First_Amount_Donated=pandas.merge(First_Amount_Donated, gifts[['donorID', 'date', 'amount_gifts']], left_on=['donorID','date'], right_on = ['donorID','date'])\n",
    "First_Amount_Donated=First_Amount_Donated.rename(columns= {'amount_gifts': 'First_Amount_Donated'})\n",
    "First_Amount_Donated=First_Amount_Donated.groupby(['donorID','date'],as_index=False)['First_Amount_Donated'].sum()\n",
    "#column 22\n",
    "#Last Amount Donated\n",
    "Last_Amount_Donated=gifts.groupby(['donorID'],as_index=False)[['date']].max()\n",
    "Last_Amount_Donated=pandas.merge(Last_Amount_Donated, gifts[['donorID', 'date', 'amount_gifts']], left_on=['donorID','date'], right_on = ['donorID','date'])\n",
    "Last_Amount_Donated=Last_Amount_Donated.rename(columns= {'amount_gifts': 'Last_Amount_Donated'})\n",
    "Last_Amount_Donated=Last_Amount_Donated.groupby(['donorID','date'],as_index=False)['Last_Amount_Donated'].sum()"
   ]
  },
  {
   "cell_type": "code",
   "execution_count": 788,
   "metadata": {},
   "outputs": [],
   "source": [
    "#column 23\n",
    "#Time since first donation\n",
    "Years_from_first_donation = First_Amount_Donated\n",
    "Years_from_first_donation['Year']=Years_from_first_donation['date'].dt.year\n",
    "Years_from_first_donation['Year']=2013-Years_from_first_donation['Year']\n",
    "Years_from_first_donation=Years_from_first_donation.rename(columns= {'Year': 'Years_from_first_donation'})"
   ]
  },
  {
   "cell_type": "code",
   "execution_count": 789,
   "metadata": {},
   "outputs": [],
   "source": [
    "#column 24\n",
    "#Time since last donation\n",
    "Years_from_last_donation = Last_Amount_Donated\n",
    "Years_from_last_donation['Year']=Years_from_last_donation['date'].dt.year\n",
    "Years_from_last_donation['Year']=2013-Years_from_last_donation['Year']\n",
    "Years_from_last_donation=Years_from_last_donation.rename(columns= {'Year': 'Years_from_last_donation'})"
   ]
  },
  {
   "cell_type": "code",
   "execution_count": 790,
   "metadata": {},
   "outputs": [],
   "source": [
    "#Drop Unwanted Columns\n",
    "Years_from_last_donation=Years_from_last_donation.drop(['date'], axis=1)\n",
    "Years_from_first_donation=Years_from_first_donation.drop(['date'], axis=1)\n",
    "Years_from_first_donation=Years_from_first_donation.drop(['First_Amount_Donated'], axis=1)\n",
    "Years_from_last_donation=Years_from_last_donation.drop(['Last_Amount_Donated'], axis=1)"
   ]
  },
  {
   "cell_type": "code",
   "execution_count": 791,
   "metadata": {},
   "outputs": [],
   "source": [
    "train = campaign2013"
   ]
  },
  {
   "cell_type": "code",
   "execution_count": 792,
   "metadata": {},
   "outputs": [],
   "source": [
    "training=pandas.merge(train, donors, on='donorID', how='left')\n",
    "training=pandas.merge(training, camp_count, on='donorID', how='left')\n",
    "training=pandas.merge(training, donation_donor, on='donorID', how='left')\n",
    "training=pandas.merge(training, freq_3_camp, on='donorID', how='left')\n",
    "training=pandas.merge(training, Donation_last_3_years, on='donorID', how='left')\n",
    "training=pandas.merge(training, freq_5_camp, on='donorID', how='left')\n",
    "training=pandas.merge(training, Donation_last_5_years, on='donorID', how='left')\n",
    "training=pandas.merge(training, max_donation_year, on='donorID', how='left')\n",
    "training=pandas.merge(training, min_donation_year, on='donorID', how='left')\n",
    "training=pandas.merge(training, Max_Amount_Donated, on='donorID', how='left')\n",
    "training=pandas.merge(training, Min_Amount_Donated, on='donorID', how='left')\n",
    "training=pandas.merge(training, First_Amount_Donated, on='donorID', how='left')\n",
    "training=pandas.merge(training, Last_Amount_Donated, on='donorID', how='left')\n",
    "training=pandas.merge(training, Years_from_first_donation, on='donorID', how='left')\n",
    "training=pandas.merge(training, Years_from_last_donation, on='donorID', how='left')\n"
   ]
  },
  {
   "cell_type": "code",
   "execution_count": 793,
   "metadata": {},
   "outputs": [],
   "source": [
    "#Drop Unwanted Columns\n",
    "training=training.drop(['gender','language','zipcode','region','province','date_x','Year_x','date_y','Year_y'], axis=1)"
   ]
  },
  {
   "cell_type": "code",
   "execution_count": 794,
   "metadata": {},
   "outputs": [],
   "source": [
    "#Handle Null Colums in Zipcode\n",
    "training['Total_camps_attended'] = where(training[\"Total_camps_attended\"].isnull(), 0,training[\"Total_camps_attended\"])\n",
    "training['is_camp_attended'] = where(training[\"is_camp_attended\"].isnull(), 0,training[\"is_camp_attended\"])\n",
    "training['Total_Amount_Donated'] = where(training[\"Total_Amount_Donated\"].isnull(), 0,training[\"Total_Amount_Donated\"])\n",
    "training['is_freq_3_camp_attended'] = where(training[\"is_freq_3_camp_attended\"].isnull(), 0,training[\"is_freq_3_camp_attended\"])\n",
    "training['Donation_last_3_years'] = where(training[\"Donation_last_3_years\"].isnull(), 0,training[\"Donation_last_3_years\"])\n",
    "training['is_freq_5_camp_attended'] = where(training[\"is_freq_5_camp_attended\"].isnull(), 0,training[\"is_freq_5_camp_attended\"])\n",
    "training['Donation_last_5_years'] = where(training[\"Donation_last_5_years\"].isnull(), 0,training[\"Donation_last_5_years\"])\n",
    "training['max_donation_year'] = where(training[\"max_donation_year\"].isnull(), 0,training[\"max_donation_year\"])\n",
    "training['min_donation_year'] = where(training[\"min_donation_year\"].isnull(), 0,training[\"min_donation_year\"])\n",
    "training['Max_Amount_Donated'] = where(training[\"Max_Amount_Donated\"].isnull(), 0,training[\"Max_Amount_Donated\"])\n",
    "training['Min_Amount_Donated'] = where(training[\"Min_Amount_Donated\"].isnull(), 0,training[\"Min_Amount_Donated\"])\n",
    "training['First_Amount_Donated'] = where(training[\"First_Amount_Donated\"].isnull(), 0,training[\"First_Amount_Donated\"])\n",
    "training['Last_Amount_Donated'] = where(training[\"Last_Amount_Donated\"].isnull(), 0,training[\"Last_Amount_Donated\"])\n",
    "training['Years_from_first_donation'] = where(training[\"Years_from_first_donation\"].isnull(), 0,training[\"Years_from_first_donation\"])\n",
    "training['Years_from_last_donation'] = where(training[\"Years_from_last_donation\"].isnull(), 0,training[\"Years_from_last_donation\"])"
   ]
  },
  {
   "cell_type": "code",
   "execution_count": 795,
   "metadata": {},
   "outputs": [],
   "source": [
    "training['is_donation_year_GE_35'] = where(training['Total_Amount_Donated'] > 35, 1,0)\n",
    "training['is_donation_year_GE_60'] = where(training['Total_Amount_Donated'] > 60, 1,0)\n",
    "training['is_donation_year_GE_100'] = where(training['Total_Amount_Donated'] > 100, 1,0)"
   ]
  },
  {
   "cell_type": "code",
   "execution_count": 796,
   "metadata": {},
   "outputs": [],
   "source": [
    "############################################### TEST DATA ###############################################"
   ]
  },
  {
   "cell_type": "code",
   "execution_count": 838,
   "metadata": {},
   "outputs": [],
   "source": [
    "# Test dataset\n",
    "campaign2014 = read_csv(inputData + \"/campaign20140115.csv\", sep = ';')"
   ]
  },
  {
   "cell_type": "code",
   "execution_count": 839,
   "metadata": {},
   "outputs": [],
   "source": [
    "#Grouping the data by DonorID to find the total amount donated\n",
    "campaign2014 = campaign2014.groupby(['donorID'],as_index=False).agg('sum')"
   ]
  },
  {
   "cell_type": "code",
   "execution_count": 840,
   "metadata": {},
   "outputs": [],
   "source": [
    "#Rename Amount Column\n",
    "campaign2014 = campaign2014.rename(columns= {'amount': 'amount_campaign'})"
   ]
  },
  {
   "cell_type": "code",
   "execution_count": 841,
   "metadata": {},
   "outputs": [],
   "source": [
    "# gifts dataset\n",
    "gifts = read_csv(inputData + \"/gifts.csv\", sep = ';')"
   ]
  },
  {
   "cell_type": "code",
   "execution_count": 842,
   "metadata": {},
   "outputs": [],
   "source": [
    "#Convert to date format\n",
    "gifts['date'] = pandas.to_datetime(gifts['date'])"
   ]
  },
  {
   "cell_type": "code",
   "execution_count": 843,
   "metadata": {},
   "outputs": [],
   "source": [
    "#filtering data before the campaign date\n",
    "gifts_test = gifts[gifts.date <= '2014-01-15']"
   ]
  },
  {
   "cell_type": "code",
   "execution_count": 844,
   "metadata": {},
   "outputs": [],
   "source": [
    "#renaming the amount column in Gifts\n",
    "gifts_test = gifts_test.rename(columns= {'amount': 'amount_gifts'})"
   ]
  },
  {
   "cell_type": "code",
   "execution_count": 845,
   "metadata": {},
   "outputs": [],
   "source": [
    "#Camp count per year\n",
    "camp_count_test =gifts_test.groupby(['donorID'], as_index=False)['campID'].count()\n",
    "camp_count_test=camp_count_test.rename(columns= {'campID': 'Total_camps_attended'})"
   ]
  },
  {
   "cell_type": "code",
   "execution_count": 846,
   "metadata": {},
   "outputs": [],
   "source": [
    "#column 8\n",
    "camp_count_test['is_camp_attended'] = where(camp_count_test[\"Total_camps_attended\"] > 0, 1,0)#not required"
   ]
  },
  {
   "cell_type": "code",
   "execution_count": 847,
   "metadata": {},
   "outputs": [],
   "source": [
    "#column 9\n",
    "#Total Donation per donor\n",
    "donation_donor_test =gifts_test.groupby(['donorID'], as_index=False)['amount_gifts'].sum()\n",
    "donation_donor_test=donation_donor_test.rename(columns= {'amount_gifts': 'Total_Amount_Donated'})"
   ]
  },
  {
   "cell_type": "code",
   "execution_count": 848,
   "metadata": {},
   "outputs": [],
   "source": [
    "#create a new column for year to obtain the donations per year\n",
    "gifts_test['gifts_year'] = gifts_test['date'].dt.year"
   ]
  },
  {
   "cell_type": "code",
   "execution_count": 849,
   "metadata": {},
   "outputs": [],
   "source": [
    "# - to check if it is required qs it has more than one row for donor id\n",
    "#sum the donations to obtain per year\n",
    "donation_year_test = gifts_test.groupby(['donorID','gifts_year'],as_index=False).sum()[['amount_gifts']]"
   ]
  },
  {
   "cell_type": "code",
   "execution_count": 850,
   "metadata": {},
   "outputs": [],
   "source": [
    "#filtering data for the 3 year frequency rate\n",
    "freq_3_test = gifts_test[(gifts_test['date'] >= '2011-01-15') & (gifts_test['date'] <= '2014-01-15')]\n",
    "#column 11\n",
    "#Camp count freq per 3 years\n",
    "freq_3_camp_test = freq_3_test.groupby(['donorID'], as_index=False)['campID'].count()\n",
    "freq_3_camp_test['is_freq_3_camp_attended'] = where(freq_3_camp_test[\"campID\"] >0, 1,0)\n",
    "#column 12\n",
    "#Donation freq per 3 years\n",
    "Donation_last_3_years_test = freq_3_test.groupby(['donorID'],as_index=False)['amount_gifts'].sum()\n",
    "Donation_last_3_years_test=Donation_last_3_years_test.rename(columns= {'amount_gifts': 'Donation_last_3_years'})\n"
   ]
  },
  {
   "cell_type": "code",
   "execution_count": 851,
   "metadata": {},
   "outputs": [],
   "source": [
    "#filtering data for the 5 year frequency rate\n",
    "freq_5_test = gifts_test[(gifts_test['date'] >= '2008-04-11') & (gifts_test['date'] <= '2013-04-11')]\n",
    "#column 13\n",
    "##Camp count freq per 5 years\n",
    "freq_5_camp_test = freq_5_test.groupby(['donorID'],as_index=False)['campID'].count()\n",
    "freq_5_camp_test['is_freq_5_camp_attended'] = where(freq_5_camp_test[\"campID\"] >0, 1,0)\n",
    "#column 14\n",
    "#Donation freq per 5 years\n",
    "Donation_last_5_years_test = freq_5_test.groupby(['donorID'],as_index=False)['amount_gifts'].sum()\n",
    "Donation_last_5_years_test=Donation_last_5_years_test.rename(columns= {'amount_gifts': 'Donation_last_5_years'})"
   ]
  },
  {
   "cell_type": "code",
   "execution_count": 852,
   "metadata": {},
   "outputs": [],
   "source": [
    "#Drop Unwanted Columns\n",
    "freq_5_camp_test=freq_5_camp_test.drop(['campID'], axis=1)\n",
    "freq_3_camp_test=freq_3_camp_test.drop(['campID'], axis=1)"
   ]
  },
  {
   "cell_type": "code",
   "execution_count": 853,
   "metadata": {},
   "outputs": [],
   "source": [
    "#column 15\n",
    "#max donation by a donor yearwise\n",
    "max_donation_year_test = gifts_test.groupby(['donorID','gifts_year'],as_index=False).sum()\n",
    "max_donation_year_test = max_donation_year_test.groupby(['donorID'],as_index=False)['amount_gifts'].max()\n",
    "max_donation_year_test= max_donation_year_test.rename(columns= {'amount_gifts': 'max_donation_year'})\n"
   ]
  },
  {
   "cell_type": "code",
   "execution_count": 854,
   "metadata": {},
   "outputs": [],
   "source": [
    "#min donation by a donor yearwise\n",
    "min_donation_year_test = gifts_test.groupby(['donorID','gifts_year'],as_index=False).sum()\n",
    "min_donation_year_test = min_donation_year_test.groupby(['donorID'],as_index=False)['amount_gifts'].min()\n",
    "min_donation_year_test=min_donation_year_test.rename(columns= {'amount_gifts': 'min_donation_year'})"
   ]
  },
  {
   "cell_type": "code",
   "execution_count": 855,
   "metadata": {},
   "outputs": [],
   "source": [
    "#column 18\n",
    "#Max Amount Paid by a donor\n",
    "Max_Amount_Donated_test=gifts_test.groupby(['donorID'],as_index=False)['amount_gifts'].max()\n",
    "Max_Amount_Donated_test=Max_Amount_Donated_test.rename(columns= {'amount_gifts': 'Max_Amount_Donated'})\n",
    "#column 19\n",
    "#Min Amount Paid by a donor\n",
    "Min_Amount_Donated_test=gifts_test.groupby(['donorID'],as_index=False)['amount_gifts'].max()\n",
    "Min_Amount_Donated_test=Min_Amount_Donated_test.rename(columns= {'amount_gifts': 'Min_Amount_Donated'})"
   ]
  },
  {
   "cell_type": "code",
   "execution_count": 856,
   "metadata": {},
   "outputs": [],
   "source": [
    "#column 21\n",
    "#Fist Amount Donated\n",
    "First_Amount_Donated_test=gifts_test.groupby(['donorID'],as_index=False)[['date']].min()\n",
    "First_Amount_Donated_test=pandas.merge(First_Amount_Donated_test, gifts_test[['donorID', 'date', 'amount_gifts']], left_on=['donorID','date'], right_on = ['donorID','date'])\n",
    "First_Amount_Donated_test=First_Amount_Donated_test.rename(columns= {'amount_gifts': 'First_Amount_Donated'})\n",
    "First_Amount_Donated_test=First_Amount_Donated_test.groupby(['donorID','date'],as_index=False)['First_Amount_Donated'].sum()\n",
    "#column 22\n",
    "#Last Amount Donated\n",
    "Last_Amount_Donated_test=gifts_test.groupby(['donorID'],as_index=False)[['date']].max()\n",
    "Last_Amount_Donated_test=pandas.merge(Last_Amount_Donated_test, gifts_test[['donorID', 'date', 'amount_gifts']], left_on=['donorID','date'], right_on = ['donorID','date'])\n",
    "Last_Amount_Donated_test=Last_Amount_Donated_test.rename(columns= {'amount_gifts': 'Last_Amount_Donated'})\n",
    "Last_Amount_Donated_test=Last_Amount_Donated_test.groupby(['donorID','date'],as_index=False)['Last_Amount_Donated'].sum()"
   ]
  },
  {
   "cell_type": "code",
   "execution_count": 857,
   "metadata": {},
   "outputs": [],
   "source": [
    "#column 23\n",
    "#Time since first donation\n",
    "Years_from_first_donation_test = First_Amount_Donated_test\n",
    "Years_from_first_donation_test['Year']=Years_from_first_donation_test['date'].dt.year\n",
    "Years_from_first_donation_test['Year']=2013-Years_from_first_donation_test['Year']\n",
    "Years_from_first_donation_test=Years_from_first_donation_test.rename(columns= {'Year': 'Years_from_first_donation'})"
   ]
  },
  {
   "cell_type": "code",
   "execution_count": 858,
   "metadata": {},
   "outputs": [],
   "source": [
    "#column 24\n",
    "#Time since last donation\n",
    "Years_from_last_donation_test = Last_Amount_Donated_test\n",
    "Years_from_last_donation_test['Year']=Years_from_last_donation_test['date'].dt.year\n",
    "Years_from_last_donation_test['Year']=2013-Years_from_last_donation_test['Year']\n",
    "Years_from_last_donation_test=Years_from_last_donation_test.rename(columns= {'Year': 'Years_from_last_donation'})"
   ]
  },
  {
   "cell_type": "code",
   "execution_count": 859,
   "metadata": {},
   "outputs": [],
   "source": [
    "#Drop Unwanted Columns\n",
    "Years_from_last_donation_test=Years_from_last_donation_test.drop(['date'], axis=1)\n",
    "Years_from_first_donation_test=Years_from_first_donation_test.drop(['date'], axis=1)\n",
    "Years_from_first_donation_test=Years_from_first_donation_test.drop(['First_Amount_Donated'], axis=1)\n",
    "Years_from_last_donation_test=Years_from_last_donation_test.drop(['Last_Amount_Donated'], axis=1)"
   ]
  },
  {
   "cell_type": "code",
   "execution_count": 860,
   "metadata": {},
   "outputs": [],
   "source": [
    "test = campaign2014"
   ]
  },
  {
   "cell_type": "code",
   "execution_count": 861,
   "metadata": {},
   "outputs": [],
   "source": [
    "testing=pandas.merge(test, donors, on='donorID', how='left')\n",
    "testing=pandas.merge(testing, camp_count_test, on='donorID', how='left')\n",
    "testing=pandas.merge(testing, donation_donor_test, on='donorID', how='left')\n",
    "testing=pandas.merge(testing, freq_3_camp_test, on='donorID', how='left')\n",
    "testing=pandas.merge(testing, Donation_last_3_years_test, on='donorID', how='left')\n",
    "testing=pandas.merge(testing, freq_5_camp_test, on='donorID', how='left')\n",
    "testing=pandas.merge(testing, Donation_last_5_years_test, on='donorID', how='left')\n",
    "testing=pandas.merge(testing, max_donation_year_test, on='donorID', how='left')\n",
    "testing=pandas.merge(testing, min_donation_year_test, on='donorID', how='left')\n",
    "testing=pandas.merge(testing, Max_Amount_Donated_test, on='donorID', how='left')\n",
    "testing=pandas.merge(testing, Min_Amount_Donated_test, on='donorID', how='left')\n",
    "testing=pandas.merge(testing, First_Amount_Donated_test, on='donorID', how='left')\n",
    "testing=pandas.merge(testing, Last_Amount_Donated_test, on='donorID', how='left')\n",
    "testing=pandas.merge(testing, Years_from_first_donation_test, on='donorID', how='left')\n",
    "testing=pandas.merge(testing, Years_from_last_donation_test, on='donorID', how='left')\n"
   ]
  },
  {
   "cell_type": "code",
   "execution_count": 862,
   "metadata": {},
   "outputs": [],
   "source": [
    "#Drop Unwanted Columns\n",
    "testing=testing.drop(['gender','language','zipcode','region','province','date_x','Year_x','date_y','Year_y'], axis=1)"
   ]
  },
  {
   "cell_type": "code",
   "execution_count": 863,
   "metadata": {},
   "outputs": [],
   "source": [
    "#Handle Null Colums in Zipcode\n",
    "testing['Total_camps_attended'] = where(testing[\"Total_camps_attended\"].isnull(), 0,testing[\"Total_camps_attended\"])\n",
    "testing['is_camp_attended'] = where(testing[\"is_camp_attended\"].isnull(), 0,testing[\"is_camp_attended\"])\n",
    "testing['Total_Amount_Donated'] = where(testing[\"Total_Amount_Donated\"].isnull(), 0,testing[\"Total_Amount_Donated\"])\n",
    "testing['is_freq_3_camp_attended'] = where(testing[\"is_freq_3_camp_attended\"].isnull(), 0,testing[\"is_freq_3_camp_attended\"])\n",
    "testing['Donation_last_3_years'] = where(testing[\"Donation_last_3_years\"].isnull(), 0,testing[\"Donation_last_3_years\"])\n",
    "testing['is_freq_5_camp_attended'] = where(testing[\"is_freq_5_camp_attended\"].isnull(), 0,testing[\"is_freq_5_camp_attended\"])\n",
    "testing['Donation_last_5_years'] = where(testing[\"Donation_last_5_years\"].isnull(), 0,testing[\"Donation_last_5_years\"])\n",
    "testing['max_donation_year'] = where(testing[\"max_donation_year\"].isnull(), 0,testing[\"max_donation_year\"])\n",
    "testing['min_donation_year'] = where(testing[\"min_donation_year\"].isnull(), 0,testing[\"min_donation_year\"])\n",
    "testing['Max_Amount_Donated'] = where(testing[\"Max_Amount_Donated\"].isnull(), 0,testing[\"Max_Amount_Donated\"])\n",
    "testing['Min_Amount_Donated'] = where(testing[\"Min_Amount_Donated\"].isnull(), 0,testing[\"Min_Amount_Donated\"])\n",
    "testing['First_Amount_Donated'] = where(testing[\"First_Amount_Donated\"].isnull(), 0,testing[\"First_Amount_Donated\"])\n",
    "testing['Last_Amount_Donated'] = where(testing[\"Last_Amount_Donated\"].isnull(), 0,testing[\"Last_Amount_Donated\"])\n",
    "testing['Years_from_first_donation'] = where(testing[\"Years_from_first_donation\"].isnull(), 0,testing[\"Years_from_first_donation\"])\n",
    "testing['Years_from_last_donation'] = where(testing[\"Years_from_last_donation\"].isnull(), 0,testing[\"Years_from_last_donation\"])"
   ]
  },
  {
   "cell_type": "code",
   "execution_count": 864,
   "metadata": {},
   "outputs": [],
   "source": [
    "testing['is_donation_year_GE_35'] = where(testing['Total_Amount_Donated'] > 35, 1,0)\n",
    "testing['is_donation_year_GE_60'] = where(testing['Total_Amount_Donated'] > 60, 1,0)\n",
    "testing['is_donation_year_GE_100'] = where(testing['Total_Amount_Donated'] > 100, 1,0)"
   ]
  },
  {
   "cell_type": "code",
   "execution_count": 865,
   "metadata": {},
   "outputs": [],
   "source": [
    "#create Training Set File\n",
    "training.to_csv(r'C:\\Users\\sbadhani\\Desktop\\Predictive Analysis\\Project_Data\\Data\\TrainingSet_DMC.csv')"
   ]
  },
  {
   "cell_type": "code",
   "execution_count": 866,
   "metadata": {},
   "outputs": [],
   "source": [
    "#create Testing Set File\n",
    "testing.to_csv(r'C:\\Users\\sbadhani\\Desktop\\Predictive Analysis\\Project_Data\\Data\\TestingSet_DMC.csv')"
   ]
  },
  {
   "cell_type": "code",
   "execution_count": null,
   "metadata": {},
   "outputs": [],
   "source": []
  },
  {
   "cell_type": "code",
   "execution_count": null,
   "metadata": {},
   "outputs": [],
   "source": []
  }
 ],
 "metadata": {
  "kernelspec": {
   "display_name": "Python 3",
   "language": "python",
   "name": "python3"
  },
  "language_info": {
   "codemirror_mode": {
    "name": "ipython",
    "version": 3
   },
   "file_extension": ".py",
   "mimetype": "text/x-python",
   "name": "python",
   "nbconvert_exporter": "python",
   "pygments_lexer": "ipython3",
   "version": "3.7.3"
  }
 },
 "nbformat": 4,
 "nbformat_minor": 2
}
